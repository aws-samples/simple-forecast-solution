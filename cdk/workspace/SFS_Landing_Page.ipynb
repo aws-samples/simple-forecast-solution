{
 "cells": [
  {
   "cell_type": "markdown",
   "id": "342326b9-222a-489f-b199-b39c2c3e3893",
   "metadata": {},
   "source": [
    "# Amazon Simple Forecast Accelerator"
   ]
  },
  {
   "cell_type": "markdown",
   "id": "1db0db1e-1b87-4629-931e-37553c9a9542",
   "metadata": {},
   "source": [
    "## Instructions\n",
    "\n",
    "Please follow the steps below to generate your forecasts."
   ]
  },
  {
   "cell_type": "markdown",
   "id": "96b08d7f-220e-48c2-90fa-3a904309aa37",
   "metadata": {},
   "source": [
    "### Step 1 – Prepare your dataset\n",
    "\n",
    "Your historical demand dataset must be a single CSV (`.csv`) or gzipped CSV (`.csv.gz`) file\n",
    "with the following columns:\n",
    "\n",
    "- `timestamp` – String, date of the demand, in the format `YYYY-mm-dd` (e.g. \"2020-12-25\")\n",
    "- `channel` – String, the originating store or platform of the demand (e.g. Website, Store-22)\n",
    "- `family` – String, the category of the item (e.g. Shirts)\n",
    "- `item_id` – String, the unique item identifier/SKU code (e.g. SKU29292)\n",
    "- `demand` – Numeric, the demand amount of the item, which must be >= 0 (e.g. 413) \n",
    "\n",
    "Each _timeseries_ in a dataset is delineated by its `channel`, `family`, and `item_id` values.\n",
    "\n",
    "Here is an example of what the file should like:\n",
    "```\n",
    "timestamp,channel,family,item_id,demand\n",
    "2018-07-02,Website,Tops,SKU29292,2\n",
    "2018-07-02,Store-22,Footwear,SKU29293,4\n",
    "...\n",
    "...\n",
    "```\n",
    "\n",
    "**Please ensure that the values in each column is correctly formated prior to generating each forecast.**"
   ]
  },
  {
   "cell_type": "markdown",
   "id": "e5ca9aec-2dfd-4cdd-8644-0445db285a35",
   "metadata": {},
   "source": [
    "### Step 2 – Upload your dataset\n",
    "\n",
    "Drag-and-drop your file from your OS's file explorer into the SageMaker Notebook file browser to the left of this page, as shown below:\n",
    "\n",
    "![upload-file-example.png](images/upload-file-example.png)"
   ]
  },
  {
   "cell_type": "markdown",
   "id": "0247462d-e132-4feb-81be-225a39a61c4a",
   "metadata": {},
   "source": [
    "### Step 3 – Use the dashboard\n",
    "\n",
    "Visit the dashboard below to generate your forecasts:\n",
    "\n",
    "- INSERT_URL_HERE"
   ]
  },
  {
   "cell_type": "markdown",
   "id": "50d23ca1-8e57-4179-94cc-c20fa722d082",
   "metadata": {},
   "source": [
    "### Step N – Shutdown the Notebook Instance"
   ]
  },
  {
   "cell_type": "markdown",
   "id": "e4596dad-3295-41dc-820d-a8bb388b9032",
   "metadata": {},
   "source": [
    "The dashboard and landing page are both hosted on a SageMaker Notebook instance.\n",
    "You can shutdown the instance by via the SageMaker se"
   ]
  }
 ],
 "metadata": {
  "kernelspec": {
   "display_name": "Python 2",
   "language": "python",
   "name": "python2"
  },
  "language_info": {
   "codemirror_mode": {
    "name": "ipython",
    "version": 3
   },
   "file_extension": ".py",
   "mimetype": "text/x-python",
   "name": "python",
   "nbconvert_exporter": "python",
   "pygments_lexer": "ipython3",
   "version": "3.8.6"
  }
 },
 "nbformat": 4,
 "nbformat_minor": 5
}
